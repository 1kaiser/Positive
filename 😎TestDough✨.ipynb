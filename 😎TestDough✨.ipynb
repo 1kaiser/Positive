{
  "nbformat": 4,
  "nbformat_minor": 0,
  "metadata": {
    "colab": {
      "name": "😎TestDough✨.ipynb",
      "provenance": [],
      "collapsed_sections": [],
      "authorship_tag": "ABX9TyMtLyfB1zthKjLxwsRiEi94",
      "include_colab_link": true
    },
    "kernelspec": {
      "name": "python3",
      "display_name": "Python 3"
    },
    "language_info": {
      "name": "python"
    }
  },
  "cells": [
    {
      "cell_type": "markdown",
      "metadata": {
        "id": "view-in-github",
        "colab_type": "text"
      },
      "source": [
        "<a href=\"https://colab.research.google.com/github/1kaiser/Positive/blob/main/%F0%9F%98%8ETestDough%E2%9C%A8.ipynb\" target=\"_parent\"><img src=\"https://colab.research.google.com/assets/colab-badge.svg\" alt=\"Open In Colab\"/></a>"
      ]
    },
    {
      "cell_type": "code",
      "execution_count": null,
      "metadata": {
        "id": "b02GmF5vNMAG"
      },
      "outputs": [],
      "source": [
        ""
      ]
    },
    {
      "cell_type": "code",
      "execution_count": null,
      "metadata": {
        "id": "_Yf4OfPBAAPR"
      },
      "outputs": [],
      "source": [
        "!git clone https://github.com/1kaiser/Positive.git"
      ]
    },
    {
      "cell_type": "code",
      "source": [
        "%cd /content/Positive"
      ],
      "metadata": {
        "id": "xpKB4ppT7Buk"
      },
      "execution_count": null,
      "outputs": []
    },
    {
      "cell_type": "markdown",
      "source": [
        "# Process to download"
      ],
      "metadata": {
        "id": "4pKQQP2NkJOW"
      }
    },
    {
      "cell_type": "code",
      "execution_count": null,
      "metadata": {
        "id": "zuJz9O9dOGSb"
      },
      "outputs": [],
      "source": [
        "!npm install -g npm\n",
        "!npm install puppeteer turndown\n",
        "!apt-get update\n",
        "!apt install chromium-chromedriver"
      ]
    },
    {
      "cell_type": "code",
      "execution_count": null,
      "metadata": {
        "id": "eu_gUfwDAuN5"
      },
      "outputs": [],
      "source": [
        "%%writefile index.js\n",
        "\n",
        "'use strict';\n",
        "\n",
        "const puppeteer = require('puppeteer');\n",
        "const fs = require('fs');\n",
        "var TurndownService = require('turndown');\n",
        "\n",
        "(async() => {\n",
        "  const browser = await puppeteer.launch({executablePath:\"/usr/lib/chromium-browser/chromium-browser\", args:['--no-sandbox']});\n",
        "  const page = await browser.newPage();\n",
        "\n",
        "    await page.goto(\"https://www.whatdoesitmean.com/index632.htm\", {\n",
        "        waitUntil: \"networkidle0\",\n",
        "    })\n",
        "\n",
        "    const links = await page.$eval(\"body > div.section1\", (el) => el.childElementCount);\n",
        "    console.log(links)\n",
        "    let golinks = [];\n",
        "    let gg\n",
        "    for (let link = 12; link <= links; link++) {\n",
        "        if (link == 80 | link == 445 | link == 444 | link == 812 | link == 1165 | link == 1349 | link == 1468 | link == 1470 | link == 1742 | link == 1744 | link == 1970 | link == 1972 | link == 1975) {\n",
        "            link++\n",
        "        } else {\n",
        "            gg = ''\n",
        "            gg = await page.evaluate((link) => {\n",
        "                return document.querySelector(\"body > div > p:nth-child(\" + link + \") > b\").getAttribute(\"style\");\n",
        "            }, link)\n",
        "            if (gg != '' && gg == \"mso-bidi-font-weight:normal\") {\n",
        "                //console.log(gg, link)\n",
        "                let title = ''\n",
        "                title = await page.evaluate((link) => {\n",
        "                    return document.querySelector(\"body > div > p:nth-child(\" + link + \")\").innerText\n",
        "                }, link)\n",
        "                let gotolink = ''\n",
        "                gotolink = await page.evaluate((link) => {\n",
        "                    return document.querySelector(\"body > div > p:nth-child(\" + link + \") > b > span > a\").getAttribute('href')\n",
        "                }, link)\n",
        "                if (title != null && gotolink != null) {\n",
        "                    //    console.log(title, gotolink)\n",
        "\n",
        "                    golinks.push({\n",
        "                        Title: title.replace(/[`~!@#$%^&*()_|+\\-=?;:'\"’”“,.<>\\{\\}\\[\\]\\\\\\/]/gi, '_'),\n",
        "                        Link: gotolink\n",
        "                    })\n",
        "\n",
        "                }\n",
        "            }\n",
        "        }\n",
        "\n",
        "\n",
        "\n",
        "    }\n",
        "    // console.log(golinks[0][\"Link\"], golinks[0][\"Title\"])\n",
        "    let file = '\\out.txt'\n",
        "    if (!fs.existsSync(file)) {\n",
        "        fs.writeFileSync(file, '', function (err) {\n",
        "            if (err)\n",
        "                console.log(err);\n",
        "        });\n",
        "    }\n",
        "    var darray = fs.readFileSync('\\out.txt', 'utf8').split('\\n');\n",
        "    let file1 = \"MD\"\n",
        "    if (!fs.existsSync(file1)) {\n",
        "        fs.mkdirSync(file1, function (err) {\n",
        "            if (err)\n",
        "                console.log(err);\n",
        "        });\n",
        "    }\n",
        "    for (let i = 0; i <= golinks.length; i++) {\n",
        "        // console.log(golinks[i][\"Link\"],'\\n',golinks[i][\"Title\"])\n",
        "        let completed = []\n",
        "        if (!darray.join().includes(golinks[i][\"Link\"])) {\n",
        "\n",
        "            let pagedetails = ''\n",
        "            var turndownService = new TurndownService()\n",
        "            const collectData = async (page) => {\n",
        "                try {\n",
        "                    await page.goto(golinks[i][\"Link\"], {\n",
        "                        waitUntil: \"networkidle0\"\n",
        "                    });\n",
        "                    return await page.content();\n",
        "                } catch (err) {\n",
        "                    console.error(err.message);\n",
        "                    return false;\n",
        "                }\n",
        "            }\n",
        "\n",
        "            let data = false;\n",
        "            let attempts = 0;\n",
        "            while (data == false && attempts < 2) {\n",
        "                data = await collectData(page);\n",
        "                attempts += 1;\n",
        "                if (data != false) {\n",
        "                    pagedetails = data\n",
        "                    pagedetails = turndownService.turndown(pagedetails)\n",
        "                    fs.writeFile(`MD/${golinks[i][\"Title\"]}.md`, pagedetails, err => {\n",
        "                        if (err) console.log(err)\n",
        "                    })\n",
        "\n",
        "                    completed.push(golinks[i][\"Link\"].concat('\\n'))\n",
        "                    fs.appendFileSync('out.txt', completed.toString())\n",
        "                } else {\n",
        "                    i++\n",
        "                }\n",
        "            }\n",
        "        }\n",
        "        console.log(\"going to next link \" + i + \"\")\n",
        "\n",
        "    }\n",
        "\n",
        "\n",
        "})()"
      ]
    },
    {
      "cell_type": "code",
      "execution_count": null,
      "metadata": {
        "id": "cbkTsI0XBA8K"
      },
      "outputs": [],
      "source": [
        "!node index.js"
      ]
    },
    {
      "cell_type": "markdown",
      "source": [
        "#zipping"
      ],
      "metadata": {
        "id": "faPmbISiKfI4"
      }
    },
    {
      "cell_type": "code",
      "source": [
        "!zip -r /content/20220313.zip /content/Positive/MD /content/Positive/out.txt"
      ],
      "metadata": {
        "id": "HULkNOGQKeHr"
      },
      "execution_count": null,
      "outputs": []
    }
  ]
}